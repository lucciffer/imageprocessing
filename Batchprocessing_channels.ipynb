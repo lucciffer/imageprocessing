{
 "cells": [
  {
   "cell_type": "code",
   "execution_count": 1,
   "metadata": {},
   "outputs": [],
   "source": [
    "from ipywidgets import FloatProgress, Layout\n",
    "from IPython.display import display\n",
    "import micasense.imageset as imageset\n",
    "import micasense.capture as capture\n",
    "import os, glob\n",
    "import multiprocessing\n",
    "\n",
    "\n",
    "import warnings\n",
    "\n",
    "warnings.simplefilter(action='ignore') #, category=FutureWarning)\n",
    "\n",
    "\n",
    "panelNames = None\n",
    "useDLS = True\n",
    "\n",
    "# imagePath = os.path.expanduser(os.path.join('~','Downloads','RedEdgeImageSet','0000SET'))\n",
    "# panelNames = glob.glob(os.path.join(imagePath,'000','IMG_0000_*.tif'))\n",
    "# panelCap = capture.Capture.from_filelist(panelNames)\n",
    "\n",
    "# # Image from the example RedEdge imageSet (see the ImageSet notebook) without RigRelatives.\n",
    "# imagePath = os.path.expanduser(os.path.join('/home/cvg-ws05/msi_up/nikhil/MSI/data/micasense_datasets/Part1','000'))\n",
    "# imageNames = glob.glob(os.path.join(imagePath,'IMG_0015_*.tif'))  # sets to be aligned\n",
    "# panelNames = glob.glob(os.path.join(imagePath,'IMG_0000_*.tif'))  # corresponding CRP images for metadata\n",
    "\n",
    "# Image from the example RedEdge imageSet (see the ImageSet notebook) without RigRelatives.\n",
    "imagePath = os.path.expanduser(os.path.join('../MSI/data/micasense_datasets/Part1','000'))\n",
    "imagePath_panel = os.path.expanduser(os.path.join('../MSI/data/micasense_datasets/Part1','000'))\n",
    "imageNames = glob.glob(os.path.join(imagePath,'IMG_0003_*.tif'))  # sets to be aligned\n",
    "panelNames = glob.glob(os.path.join(imagePath_panel,'IMG_0000_*.tif'))  # corresponding CRP images for metadata\n",
    "\n",
    "\n",
    "outputPath = os.path.join(imagePath,'..','stacks')  # to save stacks\n",
    "thumbnailPath = os.path.join(outputPath, '..', 'thumbnails')  # to save registered composite RGB images\n",
    "# channel_path = os.path.join(outputPath, '..','channels')  # to save registered MS channels\n",
    "\n",
    "overwrite = False # can be set to set to False to continue interrupted processing\n",
    "generateThumbnails = True\n",
    "export_channels = True\n",
    "\n",
    "# Allow this code to align both radiance and reflectance images; bu excluding\n",
    "# a definition for panelNames above, radiance images will be used\n",
    "# For panel images, efforts will be made to automatically extract the panel information\n",
    "# but if the panel/firmware is before Altum 1.3.5, RedEdge 5.1.7 the panel reflectance\n",
    "# will need to be set in the panel_reflectance_by_band variable.\n",
    "# Note: radiance images will not be used to properly create NDVI/NDRE images below.\n",
    "# print(len(imageNames))\n",
    "if panelNames is not None:\n",
    "    panelCap = capture.Capture.from_filelist(panelNames)\n",
    "else:\n",
    "    panelCap = None\n",
    "\n",
    "if panelCap is not None:\n",
    "    if panelCap.panel_albedo() is not None and not any(v is None for v in panelCap.panel_albedo()):\n",
    "        panel_reflectance_by_band = panelCap.panel_albedo()\n",
    "    else:\n",
    "        panel_reflectance_by_band = [0.67, 0.69, 0.68, 0.61, 0.67] #RedEdge band_index order\n",
    "    \n",
    "    panel_irradiance = panelCap.panel_irradiance(panel_reflectance_by_band)    \n",
    "    img_type = \"reflectance\"\n",
    "else:\n",
    "    if useDLS:\n",
    "        img_type='reflectance'\n",
    "    else:\n",
    "        img_type = \"radiance\"\n",
    "\n",
    "# print(len(panelNames))\n",
    "# print(len(imageNames))"
   ]
  },
  {
   "cell_type": "code",
   "execution_count": 2,
   "metadata": {},
   "outputs": [
    {
     "data": {
      "application/vnd.jupyter.widget-view+json": {
<<<<<<< HEAD
       "model_id": "0ecb1a68735f4b199847d2f4299a3e32",
=======
       "model_id": "2c90b64f164f4090b77ad89088985962",
>>>>>>> 4a7272c4f4f443ad6664a8508a2ddf235ceee31b
       "version_major": 2,
       "version_minor": 0
      },
      "text/plain": [
       "FloatProgress(value=0.0, description='Loading', layout=Layout(width='100%'), max=1.0)"
      ]
     },
     "metadata": {},
     "output_type": "display_data"
    },
    {
     "name": "stdout",
     "output_type": "stream",
     "text": [
<<<<<<< HEAD
      "Loading ImageSet from: ../MSI/data/micasense_datasets/Part1/000\n",
      "CPU times: user 4.5 s, sys: 118 ms, total: 4.62 s\n",
      "Wall time: 17.5 s\n"
=======
      "Loading ImageSet from: /home/cvg-ws05/msi_up/nikhil/MSI/data/micasense_datasets/Part1/000\n",
      "CPU times: user 11.8 s, sys: 227 ms, total: 12.1 s\n",
      "Wall time: 29 s\n"
>>>>>>> 4a7272c4f4f443ad6664a8508a2ddf235ceee31b
     ]
    }
   ],
   "source": [
    "## This progress widget is used for display of the long-running process\n",
    "f = FloatProgress(min=0, max=1, layout=Layout(width='100%'), description=\"Loading\")\n",
    "display(f)\n",
    "def update_f(val):\n",
    "    if (val - f.value) > 0.005 or val == 1: #reduces cpu usage from updating the progressbar by 10x\n",
    "        f.value=val\n",
    "\n",
    "%time imgset = imageset.ImageSet.from_directory(imagePath, progress_callback=update_f)\n",
    "update_f(1.0)"
   ]
  },
  {
   "cell_type": "code",
   "execution_count": 3,
   "metadata": {},
   "outputs": [],
   "source": [
    "import math\n",
    "import numpy as np\n",
    "from mapboxgl.viz import *\n",
    "from mapboxgl.utils import df_to_geojson, create_radius_stops, scale_between\n",
    "from mapboxgl.utils import create_color_stops\n",
    "import pandas as pd\n",
    "\n",
    "\n",
    "data, columns = imgset.as_nested_lists()\n",
    "df = pd.DataFrame.from_records(data, index='timestamp', columns=columns)\n",
    "\n",
    "#Insert your mapbox token here\n",
    "token = 'pk.eyJ1IjoibWljYXNlbnNlIiwiYSI6ImNqYWx5dWNteTJ3cWYzMnBicmZid3g2YzcifQ.Zrq9t7GYocBtBzYyT3P4sw'\n",
    "color_property = 'dls-yaw'\n",
    "num_color_classes = 8\n",
    "\n",
    "min_val = df[color_property].min()\n",
    "max_val = df[color_property].max()\n",
    "\n",
    "import jenkspy\n",
    "breaks = jenkspy.jenks_breaks(df[color_property], nb_class=num_color_classes)\n",
    "\n",
    "color_stops = create_color_stops(breaks,colors='YlOrRd')\n",
    "geojson_data = df_to_geojson(df,columns[3:],lat='latitude',lon='longitude')\n",
    "\n",
    "viz = CircleViz(geojson_data, access_token=token, color_property=color_property,\n",
    "                color_stops=color_stops,\n",
    "                center=[df['longitude'].median(),df['latitude'].median()], \n",
    "                zoom=16, height='600px',\n",
    "                style='mapbox://styles/mapbox/satellite-streets-v9')\n",
    "# viz.show()"
   ]
  },
  {
   "cell_type": "code",
   "execution_count": 4,
   "metadata": {},
   "outputs": [
    {
     "name": "stdout",
     "output_type": "stream",
     "text": [
      "[[[ 1.0000000e+00  8.0169621e-19  3.5623383e-14]\n",
      "  [ 9.8023064e-19  1.0000000e+00 -2.9132133e-15]\n",
      "  [ 3.8311758e-22 -4.9882763e-24  1.0000000e+00]]\n",
      "\n",
<<<<<<< HEAD
      " [[ 1.0023848e+00 -3.8530291e-03 -1.0802403e+01]\n",
      "  [ 6.6176774e-03  1.0027064e+00 -3.3551936e+00]\n",
      "  [ 2.1498001e-06  2.8070194e-06  1.0000000e+00]]\n",
      "\n",
      " [[ 1.0020750e+00 -3.3918640e-03  5.7813148e+00]\n",
      "  [ 6.1255889e-03  1.0029118e+00  1.5886137e+00]\n",
      "  [ 8.4884681e-07  3.1635934e-06  1.0000000e+00]]\n",
      "\n",
      " [[ 1.0035589e+00 -1.3020459e-03 -2.8401048e+00]\n",
      "  [ 7.7465677e-04  1.0047069e+00  1.2746843e+00]\n",
      "  [-8.1589633e-07 -4.6279010e-07  1.0000000e+00]]\n",
      "\n",
      " [[ 1.0047722e+00 -1.9100951e-03  1.0207496e+01]\n",
      "  [ 3.3813631e-03  1.0015476e+00  2.4667954e+00]\n",
      "  [ 3.8322869e-06 -7.6097882e-07  1.0000000e+00]]]\n"
=======
      " [[ 1.0020972e+00 -3.8759576e-03 -1.0680192e+01]\n",
      "  [ 6.6178129e-03  1.0024682e+00 -3.1303008e+00]\n",
      "  [ 2.0366031e-06  2.6314274e-06  1.0000000e+00]]\n",
      "\n",
      " [[ 1.0022233e+00 -3.3422208e-03  5.7598033e+00]\n",
      "  [ 6.1747869e-03  1.0031343e+00  1.4615405e+00]\n",
      "  [ 1.0570415e-06  3.1834475e-06  1.0000000e+00]]\n",
      "\n",
      " [[ 1.0034503e+00 -1.4964709e-03 -2.6816323e+00]\n",
      "  [ 9.9390303e-04  1.0041091e+00  1.5429122e+00]\n",
      "  [-6.0411099e-07 -9.9051920e-07  1.0000000e+00]]\n",
      "\n",
      " [[ 1.0046771e+00 -1.8069730e-03  1.0242603e+01]\n",
      "  [ 3.3647208e-03  1.0016831e+00  2.5060852e+00]\n",
      "  [ 3.8171006e-06 -8.0312105e-07  1.0000000e+00]]]\n"
>>>>>>> 4a7272c4f4f443ad6664a8508a2ddf235ceee31b
     ]
    }
   ],
   "source": [
    "from numpy import array\n",
    "from numpy import float32\n",
    "import numpy as np\n",
    "\n",
    "# Set warp_matrices to none to align using RigRelatives\n",
    "# Or\n",
    "# Use the warp_matrices derived from the Alignment Tutorial for this RedEdge set without RigRelatives\n",
    "\n",
    "warp_matrices = np.load('../MSI/data_processing/warp_matrices.npy')\n",
    "print(warp_matrices)"
   ]
  },
  {
   "cell_type": "code",
   "execution_count": 5,
   "metadata": {},
   "outputs": [
    {
     "data": {
      "application/vnd.jupyter.widget-view+json": {
<<<<<<< HEAD
       "model_id": "aa9775afeff84867bde60ae987f05705",
=======
       "model_id": "625167b409d142ea9c4594dfaa1198c1",
>>>>>>> 4a7272c4f4f443ad6664a8508a2ddf235ceee31b
       "version_major": 2,
       "version_minor": 0
      },
      "text/plain": [
       "FloatProgress(value=0.0, description='Saving', layout=Layout(width='100%'), max=1.0)"
      ]
     },
     "metadata": {},
     "output_type": "display_data"
<<<<<<< HEAD
=======
    },
    {
     "name": "stdout",
     "output_type": "stream",
     "text": [
      "Saving time: 0:05:13.762321\n",
      "Alignment+Saving rate: 0.64 images per second\n"
     ]
>>>>>>> 4a7272c4f4f443ad6664a8508a2ddf235ceee31b
    }
   ],
   "source": [
    "import exiftool\n",
    "import datetime\n",
    "import hdf5storage\n",
    "\n",
    "# This function exports multispectral channels to .mat files\n",
    "def save_matv73(mat_name, var_name, var):\n",
    "    hdf5storage.savemat(mat_name, {var_name: var}, format='7.3', store_python_metadata=True)\n",
    "\n",
    "    \n",
    "## This progress widget is used for display of the long-running process\n",
    "f2 = FloatProgress(min=0, max=1, layout=Layout(width='100%'), description=\"Saving\")\n",
    "display(f2)\n",
    "def update_f2(val):\n",
    "    f2.value=val\n",
    "\n",
    "# Save out geojson data so we can open the image capture locations in our GIS\n",
    "with open(os.path.join(outputPath,'imageSet.json'),'w') as f:\n",
    "    f.write(str(geojson_data))\n",
    "    \n",
    "try:\n",
    "    irradiance = panel_irradiance+[0]\n",
    "except NameError:\n",
    "    irradiance = None\n",
    "\n",
    "exportChannels = True\n",
    "\n",
    "\n",
    "start = datetime.datetime.now()\n",
    "\n",
    "for i,capture in enumerate(imgset.captures):\n",
    "    if(len(capture.images) == len(imgset.captures[0].images)):\n",
    "        capture.create_aligned_capture(irradiance_list=irradiance, warp_matrices=warp_matrices)\n",
    "        # capture.save_capture_as_stack(fullOutputPath)\n",
    "        if export_channels:\n",
    "            save_matv73('./mat_files/batch_{}'.format(i), 'cube', capture.create_aligned_capture(irradiance_list=irradiance, warp_matrices=warp_matrices))\n",
    "capture.clear_image_data()\n",
    "update_f2(float(i)/float(len(imgset.captures)))\n",
    "update_f2(1.0)\n",
    "end = datetime.datetime.now()\n",
    "print(\"Saving time: {}\".format(end-start))\n",
    "print(\"Alignment+Saving rate: {:.2f} images per second\".format(float(len(imgset.captures))/float((end-start).total_seconds())))"
   ]
  }
 ],
 "metadata": {
  "interpreter": {
   "hash": "25e915e958864493484a03d19e864a9b7f948c512c1490c43400bfec4f071f6b"
  },
  "kernelspec": {
   "display_name": "Python 3.7.10 64-bit ('micasense': conda)",
   "name": "python3"
  },
  "language_info": {
   "codemirror_mode": {
    "name": "ipython",
    "version": 3
   },
   "file_extension": ".py",
   "mimetype": "text/x-python",
   "name": "python",
   "nbconvert_exporter": "python",
   "pygments_lexer": "ipython3",
   "version": "3.7.10"
  },
  "orig_nbformat": 4
 },
 "nbformat": 4,
 "nbformat_minor": 2
}
