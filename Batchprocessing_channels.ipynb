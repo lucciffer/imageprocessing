{
 "cells": [
  {
   "cell_type": "code",
   "execution_count": null,
   "source": [
    "import os, glob\n",
    "import micasense.capture as capture\n",
    "%matplotlib inline\n",
    "\n",
    "panelNames = None\n",
    "\n",
    "# # This is an older RedEdge image without RigRelatives\n",
    "# imagePath = os.path.join(os.path.abspath('.'),'data','0000SET','000')\n",
    "# imageNames = glob.glob(os.path.join(imagePath,'IMG_0001_*.tif'))\n",
    "# panelNames = glob.glob(os.path.join(imagePath,'IMG_0000_*.tif'))\n",
    "\n",
    "\n",
    "\n",
    "# # Image from the example RedEdge imageSet (see the ImageSet notebook) without RigRelatives.\n",
    "# imagePath = os.path.expanduser(os.path.join('/home/cvg-ws05/msi_up/nikhil/MSI/data/DataCapture/agri_data_30jul','0021SET'))\n",
    "# imageNames = glob.glob(os.path.join(imagePath,'000','IMG_0005_*.tif'))  # sets to be aligned\n",
    "# panelNames = glob.glob(os.path.join(imagePath,'000','IMG_0000_*.tif'))  # corresponding CRP images for metadata\n",
    "\n",
    "\n",
    "# Image from the example RedEdge imageSet (see the ImageSet notebook) without RigRelatives.\n",
    "imagePath = os.path.expanduser(os.path.join('/home/cvg-ws05/msi_up/nikhil/MSI/data/micasense_datasets/Part1','000'))\n",
    "imageNames = glob.glob(os.path.join(imagePath,'IMG_0077_*.tif'))  # sets to be aligned\n",
    "panelNames = glob.glob(os.path.join(imagePath,'IMG_0000_*.tif'))  # corresponding CRP images for metadata\n",
    "\n",
    "\n",
    "# This is an altum image with RigRelatives and a thermal band\n",
    "# imagePath = os.path.join('.','data','ALTUM1SET','000')\n",
    "# imageNames = glob.glob(os.path.join(imagePath,'IMG_0245_*.tif'))\n",
    "# panelNames = glob.glob(os.path.join(imagePath,'IMG_0000_*.tif'))\n",
    "\n",
    "export_channels = True\n",
    "channel_path = '/home/cvg-ws05/msi_up/nikhil/MSI/data/micasense_datasets/Part1/channels'  # to save registered MS channels\n",
    "\n",
    "\n",
    "if export_channels and not os.path.exists(channel_path):\n",
    "    os.makedirs(channel_path)\n",
    "\n",
    "\n",
    "# Allow this code to align both radiance and reflectance images; bu excluding\n",
    "# a definition for panelNames above, radiance images will be used\n",
    "# For panel images, efforts will be made to automatically extract the panel information\n",
    "# but if the panel/firmware is before Altum 1.3.5, RedEdge 5.1.7 the panel reflectance\n",
    "# will need to be set in the panel_reflectance_by_band variable.\n",
    "# Note: radiance images will not be used to properly create NDVI/NDRE images below.\n",
    "if panelNames is not None:\n",
    "    panelCap = capture.Capture.from_filelist(panelNames)\n",
    "\n",
    "else:\n",
    "    panelCap = None\n",
    "\n",
    "\n",
    "capture = capture.Capture.from_filelist(imageNames)\n",
    "\n",
    "if panelCap is not None:\n",
    "    if panelCap.panel_albedo() is not None:\n",
    "        panel_reflectance_by_band = panelCap.panel_albedo()\n",
    "    else:\n",
    "        panel_reflectance_by_band = [0.67, 0.69, 0.68, 0.61, 0.67] #RedEdge band_index order\n",
    "    panel_irradiance = panelCap.panel_irradiance(panel_reflectance_by_band)    \n",
    "    img_type = \"reflectance\"\n",
    "    capture.plot_undistorted_reflectance(panel_irradiance)\n",
    "else:\n",
    "    if capture.dls_present():\n",
    "        img_type='reflectance'\n",
    "        capture.plot_undistorted_reflectance(capture.dls_irradiance())\n",
    "    else:\n",
    "        img_type = \"radiance\"\n",
    "        capture.plot_undistorted_radiance() \n",
    "\n",
    "\n",
    "print(imagePath)\n",
    "print(imageNames)   "
   ],
   "outputs": [],
   "metadata": {}
  },
  {
   "cell_type": "markdown",
   "source": [
    "# Load the warp matrices"
   ],
   "metadata": {}
  },
  {
   "cell_type": "code",
   "execution_count": null,
   "source": [
    "from numpy import array\n",
    "from numpy import float32\n",
    "import numpy as np\n",
    "\n",
    "warp_matrices = np.load('/home/cvg-ws05/msi_up/nikhil/MSI/data/micasense_datasets/Part1/warp_matrices.npy')\n",
    "# warp_matrices = np.load('../MSI/data/DataCapture/calibration.npy')\n",
    "print(warp_matrices)\n",
    "print(\"[INFO] warp matrices loaded...\")"
   ],
   "outputs": [],
   "metadata": {}
  },
  {
   "cell_type": "code",
   "execution_count": null,
   "source": [
    "try:\n",
    "    irradiance = panel_irradiance+[0]\n",
    "except NameError:\n",
    "    irradiance = None\n",
    "\n",
    "\n",
    "    \n",
    "sample = capture.create_aligned_capture(irradiance_list=irradiance, warp_matrices=warp_matrices)\n",
    "print(\"[INFO] Multispectral channels registered...\")"
   ],
   "outputs": [],
   "metadata": {}
  },
  {
   "cell_type": "code",
   "execution_count": null,
   "source": [
    "print(imageNames[0])"
   ],
   "outputs": [],
   "metadata": {}
  },
  {
   "cell_type": "markdown",
   "source": [
    "# Saving the aligned channels"
   ],
   "metadata": {}
  },
  {
   "cell_type": "code",
   "execution_count": null,
   "source": [
    "print(sample.shape)\n",
    "import matplotlib.pyplot as plt\n",
    "for i in range(0, 5):\n",
    "    plt.imshow(sample[:,:,i])\n",
    "    plt.savefig('chnl_{}.png'.format(i))\n",
    "print(\"[INFO] channels saved...\")"
   ],
   "outputs": [],
   "metadata": {}
  }
 ],
 "metadata": {
  "orig_nbformat": 4,
  "language_info": {
   "name": "python",
   "version": "3.7.10",
   "mimetype": "text/x-python",
   "codemirror_mode": {
    "name": "ipython",
    "version": 3
   },
   "pygments_lexer": "ipython3",
   "nbconvert_exporter": "python",
   "file_extension": ".py"
  },
  "kernelspec": {
   "name": "python3",
   "display_name": "Python 3.7.10 64-bit ('micasense': conda)"
  },
  "interpreter": {
   "hash": "3d98f78d41966316bb0d86702c308fa23f580e5d878712067133a720dd4d52b3"
  }
 },
 "nbformat": 4,
 "nbformat_minor": 2
}