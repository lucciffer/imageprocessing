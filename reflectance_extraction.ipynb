{
 "cells": [
  {
   "cell_type": "code",
   "execution_count": 2,
   "metadata": {},
   "outputs": [],
   "source": [
    "import os, glob \n",
    "import micasense.capture as capture\n",
    "\n",
    "panelNames = None \n",
    "\n",
    "# Image from the example RedEdge imageSet (see the ImageSet notebook) without RigRelatives.\n",
    "imagePath = os.path.expanduser(os.path.join('../MSI/data/micasense_datasets/Part1','000'))\n",
    "imageNames = glob.glob(os.path.join(imagePath,'IMG_0016_*.tif'))  # sets to be aligned\n",
    "panelNames = glob.glob(os.path.join('../MSI/data/micasense_datasets/Part1/000/IMG_0000*.tif'))  # corresponding CRP images for metadata\n",
    "\n",
    "\n",
    "if panelNames is not None:\n",
    "    panelCap = capture.Capture.from_filelist(panelNames)\n",
    "else:\n",
    "    print(\"No panel images found\")\n",
    "\n",
    "capture = capture.Capture.from_filelist(imageNames)\n",
    "\n"
   ]
  },
  {
   "cell_type": "code",
   "execution_count": 3,
   "metadata": {},
   "outputs": [
    {
     "name": "stdout",
     "output_type": "stream",
     "text": [
      "[0.5105000000000001, 0.5099333333333335, 0.5092133333333334, 0.5080666666666668, 0.5088866666666668]\n"
     ]
    }
   ],
   "source": [
    "if panelCap is not None:\n",
    "    panel_reflectance_by_hand = panelCap.panel_albedo()\n",
    "else: \n",
    "    print(\"check panel files\")\n",
    "\n",
    "print(panel_reflectance_by_hand)"
   ]
  }
 ],
 "metadata": {
  "interpreter": {
   "hash": "0beb7c7c33213d83a4d83ed6c1625271d7d8066311dbe9089bdc12ad4ab4d4d6"
  },
  "kernelspec": {
   "display_name": "Python 3.7.10 64-bit ('micasense': conda)",
   "language": "python",
   "name": "python3"
  },
  "language_info": {
   "codemirror_mode": {
    "name": "ipython",
    "version": 3
   },
   "file_extension": ".py",
   "mimetype": "text/x-python",
   "name": "python",
   "nbconvert_exporter": "python",
   "pygments_lexer": "ipython3",
   "version": "3.7.10"
  },
  "orig_nbformat": 4
 },
 "nbformat": 4,
 "nbformat_minor": 2
}
